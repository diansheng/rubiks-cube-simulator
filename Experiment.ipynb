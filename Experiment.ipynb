{
 "cells": [
  {
   "cell_type": "code",
   "execution_count": 1,
   "metadata": {
    "ExecuteTime": {
     "end_time": "2020-11-08T16:28:26.794687Z",
     "start_time": "2020-11-08T16:28:26.620471Z"
    }
   },
   "outputs": [],
   "source": [
    "import numpy as np"
   ]
  },
  {
   "cell_type": "code",
   "execution_count": 2,
   "metadata": {
    "ExecuteTime": {
     "end_time": "2020-11-08T16:28:27.709676Z",
     "start_time": "2020-11-08T16:28:27.703390Z"
    }
   },
   "outputs": [],
   "source": [
    "transform_matrix = np.array([\n",
    "                [1, 0, 0],\n",
    "                [0, 0, -1],\n",
    "                [0, 1, 0],\n",
    "            ])\n",
    "# clock-wise"
   ]
  },
  {
   "cell_type": "code",
   "execution_count": 3,
   "metadata": {
    "ExecuteTime": {
     "end_time": "2020-11-08T16:28:32.985764Z",
     "start_time": "2020-11-08T16:28:32.963206Z"
    }
   },
   "outputs": [
    {
     "data": {
      "text/plain": [
       "{(-1, 0, 0): 'blue',\n",
       " (1, 0, 0): 'yellow',\n",
       " (0, -1, 0): 'red',\n",
       " (0, 1, 0): 'green',\n",
       " (0, 0, -1): 'white',\n",
       " (0, 0, 1): 'violet'}"
      ]
     },
     "execution_count": 3,
     "metadata": {},
     "output_type": "execute_result"
    }
   ],
   "source": [
    "side_2_vec = {\n",
    "    'back': (-1,0,0),\n",
    "    'front': (1,0,0),\n",
    "    'left': (0,-1,0),\n",
    "    'right': (0,1,0),\n",
    "    'bottom': (0,0,-1),\n",
    "    'top': (0,0,1),\n",
    "}\n",
    "\n",
    "index_2_side = 'back, front, left, right, bottom, top'.split(', ')\n",
    "color_side = {side_2_vec[side]:c for side,c in zip(index_2_side,'null blue yellow red green white violet'.split()[1:])}\n",
    "color_side"
   ]
  },
  {
   "cell_type": "code",
   "execution_count": 4,
   "metadata": {
    "ExecuteTime": {
     "end_time": "2020-11-08T16:28:44.193337Z",
     "start_time": "2020-11-08T16:28:44.176032Z"
    }
   },
   "outputs": [
    {
     "data": {
      "text/plain": [
       "{(-1, 0, 0): 'blue',\n",
       " (1, 0, 0): 'yellow',\n",
       " (0, 0, 1): 'red',\n",
       " (0, 0, -1): 'green',\n",
       " (0, -1, 0): 'white',\n",
       " (0, 1, 0): 'violet'}"
      ]
     },
     "execution_count": 4,
     "metadata": {},
     "output_type": "execute_result"
    }
   ],
   "source": [
    "color_side_new = {\n",
    "    tuple(np.dot(transform_matrix.T, np.array(vec)).astype(int)):c\n",
    "    for vec,c in color_side.items()\n",
    "}\n",
    "color_side_new"
   ]
  },
  {
   "cell_type": "code",
   "execution_count": 5,
   "metadata": {
    "ExecuteTime": {
     "end_time": "2020-11-08T16:28:45.588033Z",
     "start_time": "2020-11-08T16:28:45.582982Z"
    }
   },
   "outputs": [
    {
     "name": "stderr",
     "output_type": "stream",
     "text": [
      "UsageError: %colors: you must specify a color scheme. See '%colors?'\n"
     ]
    }
   ],
   "source": [
    "colors"
   ]
  },
  {
   "cell_type": "code",
   "execution_count": null,
   "metadata": {},
   "outputs": [],
   "source": []
  }
 ],
 "metadata": {
  "kernelspec": {
   "display_name": "Python 3",
   "language": "python",
   "name": "python3"
  },
  "language_info": {
   "codemirror_mode": {
    "name": "ipython",
    "version": 3
   },
   "file_extension": ".py",
   "mimetype": "text/x-python",
   "name": "python",
   "nbconvert_exporter": "python",
   "pygments_lexer": "ipython3",
   "version": "3.6.6"
  },
  "toc": {
   "base_numbering": 1,
   "nav_menu": {},
   "number_sections": true,
   "sideBar": true,
   "skip_h1_title": false,
   "title_cell": "Table of Contents",
   "title_sidebar": "Contents",
   "toc_cell": false,
   "toc_position": {},
   "toc_section_display": true,
   "toc_window_display": false
  }
 },
 "nbformat": 4,
 "nbformat_minor": 2
}
